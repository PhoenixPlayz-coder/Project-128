{
 "cells": [
  {
   "cell_type": "code",
   "execution_count": 1,
   "id": "b6a969e2",
   "metadata": {},
   "outputs": [
    {
     "name": "stdout",
     "output_type": "stream",
     "text": [
      "Requirement already satisfied: pandas in c:\\users\\neetu\\appdata\\local\\programs\\python\\python310\\lib\\site-packages (1.4.3)\n",
      "Requirement already satisfied: numpy>=1.21.0 in c:\\users\\neetu\\appdata\\local\\programs\\python\\python310\\lib\\site-packages (from pandas) (1.23.0)\n",
      "Requirement already satisfied: pytz>=2020.1 in c:\\users\\neetu\\appdata\\local\\programs\\python\\python310\\lib\\site-packages (from pandas) (2022.2.1)\n",
      "Requirement already satisfied: python-dateutil>=2.8.1 in c:\\users\\neetu\\appdata\\local\\programs\\python\\python310\\lib\\site-packages (from pandas) (2.8.2)\n",
      "Requirement already satisfied: six>=1.5 in c:\\users\\neetu\\appdata\\local\\programs\\python\\python310\\lib\\site-packages (from python-dateutil>=2.8.1->pandas) (1.16.0)\n"
     ]
    }
   ],
   "source": [
    "!pip3 install pandas\n",
    "from bs4 import BeautifulSoup as bs\n",
    "import requests \n",
    "import pandas as pd"
   ]
  },
  {
   "cell_type": "code",
   "execution_count": 4,
   "id": "d0e28a96",
   "metadata": {},
   "outputs": [],
   "source": [
    "url = 'https://en.wikipedia.org/wiki/List_of_brown_dwarfs'\n",
    "\n",
    "page = requests.get(url)\n",
    "soup = bs(page.text,'html.parser')\n",
    "star_table = soup.find_all('table')"
   ]
  },
  {
   "cell_type": "code",
   "execution_count": 6,
   "id": "859f9fea",
   "metadata": {},
   "outputs": [],
   "source": [
    "temp_list = []\n",
    "table_rows = star_table[7].find_all('tr')\n",
    "for tr in table_rows:\n",
    "    td = tr.find_all('td')\n",
    "    row = [i.text.rstrip() for i in td]\n",
    "    temp_list.append(row)"
   ]
  },
  {
   "cell_type": "code",
   "execution_count": 7,
   "id": "f5e8f947",
   "metadata": {},
   "outputs": [],
   "source": [
    "star_names = []\n",
    "distance = []\n",
    "mass = []\n",
    "radius = []\n",
    "\n",
    "for i in range(1,len(temp_list)):\n",
    "    star_names.append(temp_list[i][0])\n",
    "    distance.append(temp_list[i][5])\n",
    "    mass.append(temp_list[i][7])\n",
    "    radius.append(temp_list[i][8])    "
   ]
  },
  {
   "cell_type": "code",
   "execution_count": 8,
   "id": "18c4054b",
   "metadata": {},
   "outputs": [
    {
     "name": "stdout",
     "output_type": "stream",
     "text": [
      "                        star_names distance         mass radius\n",
      "0    SDSS J000013.54+255418.6 [de]     46.1           48   0.99\n",
      "1          2MASS J08283419-1309198                             \n",
      "2          2MASS J00040288-6410358      192           19   1.63\n",
      "3                        LHS 102BC                             \n",
      "4          2MASS J00242463-0158201     37.7           79   1.09\n",
      "..                             ...      ...          ...    ...\n",
      "348                 WISE 2348-1028     54.1                    \n",
      "349                 WISE 2357+1227     54.8                    \n",
      "350                 WISE 2359-7335     42.7                    \n",
      "351                WISEA 1101+5400      111                    \n",
      "352                         2M1510      120  40 + 39 + ?       \n",
      "\n",
      "[353 rows x 4 columns]\n"
     ]
    }
   ],
   "source": [
    "df = pd.DataFrame(list(zip(star_names,distance,mass,radius)),columns = ['star_names','distance','mass','radius'])\n",
    "print(df)\n"
   ]
  },
  {
   "cell_type": "code",
   "execution_count": 9,
   "id": "9c9affff",
   "metadata": {},
   "outputs": [],
   "source": [
    "df.to_csv('dwarf_stars.csv')"
   ]
  },
  {
   "cell_type": "code",
   "execution_count": null,
   "id": "3ba5a1ac",
   "metadata": {},
   "outputs": [],
   "source": []
  }
 ],
 "metadata": {
  "kernelspec": {
   "display_name": "Python 3 (ipykernel)",
   "language": "python",
   "name": "python3"
  },
  "language_info": {
   "codemirror_mode": {
    "name": "ipython",
    "version": 3
   },
   "file_extension": ".py",
   "mimetype": "text/x-python",
   "name": "python",
   "nbconvert_exporter": "python",
   "pygments_lexer": "ipython3",
   "version": "3.10.4"
  }
 },
 "nbformat": 4,
 "nbformat_minor": 5
}
