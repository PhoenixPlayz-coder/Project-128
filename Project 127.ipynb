{
 "cells": [
  {
   "cell_type": "code",
   "execution_count": 3,
   "id": "7ff85063",
   "metadata": {},
   "outputs": [
    {
     "name": "stdout",
     "output_type": "stream",
     "text": [
      "Collecting pandas\n",
      "  Using cached pandas-1.4.3-cp310-cp310-win_amd64.whl (10.5 MB)\n",
      "Requirement already satisfied: numpy>=1.21.0 in c:\\users\\neetu\\appdata\\local\\programs\\python\\python310\\lib\\site-packages (from pandas) (1.23.0)\n",
      "Requirement already satisfied: python-dateutil>=2.8.1 in c:\\users\\neetu\\appdata\\local\\programs\\python\\python310\\lib\\site-packages (from pandas) (2.8.2)\n",
      "Collecting pytz>=2020.1\n",
      "  Downloading pytz-2022.2.1-py2.py3-none-any.whl (500 kB)\n",
      "     -------------------------------------- 500.6/500.6 kB 3.9 MB/s eta 0:00:00\n",
      "Requirement already satisfied: six>=1.5 in c:\\users\\neetu\\appdata\\local\\programs\\python\\python310\\lib\\site-packages (from python-dateutil>=2.8.1->pandas) (1.16.0)\n",
      "Installing collected packages: pytz, pandas\n",
      "Successfully installed pandas-1.4.3 pytz-2022.2.1\n"
     ]
    }
   ],
   "source": [
    "!pip3 install pandas\n",
    "from bs4 import BeautifulSoup as bs\n",
    "import requests \n",
    "import pandas as pd"
   ]
  },
  {
   "cell_type": "code",
   "execution_count": 4,
   "id": "6a219cbe",
   "metadata": {},
   "outputs": [],
   "source": [
    "url = 'https://en.wikipedia.org/wiki/List_of_brightest_stars_and_other_record_stars'"
   ]
  },
  {
   "cell_type": "code",
   "execution_count": 5,
   "id": "2f8b7c07",
   "metadata": {},
   "outputs": [
    {
     "name": "stdout",
     "output_type": "stream",
     "text": [
      "<Response [200]>\n"
     ]
    }
   ],
   "source": [
    "page = requests.get(url)\n",
    "print(page)"
   ]
  },
  {
   "cell_type": "code",
   "execution_count": 6,
   "id": "5edd3e69",
   "metadata": {},
   "outputs": [],
   "source": [
    "soup = bs(page.text,'html.parser')\n",
    "star_table = soup.find('table')"
   ]
  },
  {
   "cell_type": "code",
   "execution_count": 7,
   "id": "2f4cdab7",
   "metadata": {},
   "outputs": [],
   "source": [
    "temp_list = []\n",
    "table_rows = star_table.find_all('tr')\n",
    "for tr in table_rows:\n",
    "    td = tr.find_all('td')\n",
    "    row = [i.text.rstrip() for i in td]\n",
    "    temp_list.append(row)"
   ]
  },
  {
   "cell_type": "code",
   "execution_count": 8,
   "id": "5becd657",
   "metadata": {},
   "outputs": [],
   "source": [
    "star_names = []\n",
    "distance = []\n",
    "mass = []\n",
    "radius = []\n",
    "lum = []\n",
    "\n",
    "for i in range(1,len(temp_list)):\n",
    "    star_names.append(temp_list[i][1])\n",
    "    distance.append(temp_list[i][3])\n",
    "    mass.append(temp_list[i][5])\n",
    "    radius.append(temp_list[i][6])\n",
    "    lum.append(temp_list[i][7])"
   ]
  },
  {
   "cell_type": "code",
   "execution_count": 9,
   "id": "c366834a",
   "metadata": {},
   "outputs": [
    {
     "name": "stdout",
     "output_type": "stream",
     "text": [
      "['Sun', 'Sirius', 'Canopus', 'Alpha Centauri', 'Arcturus', 'Vega', 'Capella', 'Rigel', 'Procyon', 'Betelgeuse', 'Achernar', 'Hadar', 'Altair', 'Acrux', 'Aldebaran', 'Antares', 'Spica', 'Pollux', 'Fomalhaut', 'Deneb', 'Mimosa', 'Regulus', 'Adhara', 'Shaula', 'Castor', 'Gacrux', 'Bellatrix', 'Elnath', 'Miaplacidus', 'Alnilam', 'Gamma Velorum', 'Alnair', 'Alioth', 'Alnitak', 'Dubhe', 'Mirfak', 'Wezen', 'Sargas', 'Kaus Australis', 'Avior', 'Alkaid', 'Menkalinan', 'Atria', 'Alhena', 'Peacock', 'Alsephina[2]', 'Mirzam', 'Polaris', 'Alphard', 'Mintaka', 'Scheat', 'Almaaz', 'Rasalgethi', 'Tau Ceti', 'Delta Pavonis', 'Ran', 'V382 Carinae', 'Eta Carinae', 'Delta Cephei', 'Mu Cephei', 'Titawin', 'Rho Cassiopeiae', 'P Cygni', 'La Superba', 'VV Cephei', '61 Cygni', 'R Doradus', 'Polaris Australis', 'R Coronae Borealis', '54 Piscium', 'Mira', 'RW Cephei', 'Lacaille 8760', 'V838 Monocerotis', 'HD 140283', 'II Pegasi', 'VY Canis Majoris', 'Pistol Star', 'S Doradus', 'UY Scuti', \"Barnard's Star\", 'Luhman 16', 'Proxima Centauri', 'KIC 8462852', 'R136a1', 'Melnick 42', 'WR 102', 'VFTS 352', 'YBP 1194', 'Gliese 1214', 'NML Cygni', 'VB 10', 'WOH G64', 'TRAPPIST-1', '2MASS J0523-1403', 'WISE 0855−0714', 'Icarus']\n"
     ]
    }
   ],
   "source": [
    "print(star_names)"
   ]
  },
  {
   "cell_type": "code",
   "execution_count": 10,
   "id": "fdf9c8ae",
   "metadata": {},
   "outputs": [
    {
     "name": "stdout",
     "output_type": "stream",
     "text": [
      "          star_names         distance   mass         radius          lum\n",
      "0                Sun      0.000015813      1              1            1\n",
      "1             Sirius           0008.6    2.1           1.71         25.4\n",
      "2            Canopus             0310     15             71       13,500\n",
      "3     Alpha Centauri           0004.4    1.1            1.2            2\n",
      "4           Arcturus             0037    1.1             26          170\n",
      "..               ...              ...    ...            ...          ...\n",
      "92           WOH G64         0163,000    <20  1,540 - 1,730  340-589,000\n",
      "93        TRAPPIST-1            039.6  0.089           0.12       0.0005\n",
      "94  2MASS J0523-1403            040.3   0.07          0.086      0.00013\n",
      "95    WISE 0855−0714            07.27  0.003              ?            ?\n",
      "96            Icarus  014,400,000,000     33              ?      850,000\n",
      "\n",
      "[97 rows x 5 columns]\n"
     ]
    }
   ],
   "source": [
    "df = pd.DataFrame(list(zip(star_names,distance,mass,radius,lum)),columns = ['star_names','distance','mass','radius','lum'])\n",
    "print(df)"
   ]
  },
  {
   "cell_type": "code",
   "execution_count": 11,
   "id": "f6f9977a",
   "metadata": {},
   "outputs": [],
   "source": [
    "df.to_csv('bright_stars.csv')"
   ]
  },
  {
   "cell_type": "code",
   "execution_count": null,
   "id": "1d0701b8",
   "metadata": {},
   "outputs": [],
   "source": []
  }
 ],
 "metadata": {
  "kernelspec": {
   "display_name": "Python 3 (ipykernel)",
   "language": "python",
   "name": "python3"
  },
  "language_info": {
   "codemirror_mode": {
    "name": "ipython",
    "version": 3
   },
   "file_extension": ".py",
   "mimetype": "text/x-python",
   "name": "python",
   "nbconvert_exporter": "python",
   "pygments_lexer": "ipython3",
   "version": "3.10.4"
  }
 },
 "nbformat": 4,
 "nbformat_minor": 5
}
